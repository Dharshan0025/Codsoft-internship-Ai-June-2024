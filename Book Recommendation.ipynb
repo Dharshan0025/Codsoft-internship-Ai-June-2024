[] import numpy as np
   import pandas as pd
   from sklearn.cluster import KMeans
   from sklearn import neighbors
   from sklearn.model_selection import train_test_split
   from sklearn.preprocessing import MinMaxScaler

[] df=pd.read_csv('books.csv',error_bad_lines=False)
   df.head()

[] df.describe()

[] df2 = df.copy()

[] df2.loc[ (df2['average_rating'] >= 0) & (df2['average_rating'] <= 1), 'rating_between'] = "between 0 and 1"
   df2.loc[ (df2['average_rating'] > 1) & (df2['average_rating'] <= 2), 'rating_between'] = "between 1 and 2"
   df2.loc[ (df2['average_rating'] > 2) & (df2['average_rating'] <= 3), 'rating_between'] = "between 2 and 3"
   df2.loc[ (df2['average_rating'] > 3) & (df2['average_rating'] <= 4), 'rating_between'] = "between 3 and 4"
   df2.loc[ (df2['average_rating'] > 4) & (df2['average_rating'] <= 5), 'rating_between'] = "between 4 and 5"

[] rating=pd.get_dummies(df2['rating_between'])
   lang=pd.get_dummies(df2['language_code'])

[] features = pd.concat([rating,
                      lang,
                      df2['average_rating'],
                      df2['ratings_count']

], axis=1)

[] scaler=MinMaxScaler()

[] features=scaler.fit_transform(features)

[] model=neighbors.NearestNeighbors(n_neighbors=6, algorithm='ball_tree')
   model.fit(features)
   dist, idlist = model.kneighbors(features)

[] book='Harry Potter and the Half-Blood Prince (Harry Potter  #6)'

[] id_b=df2[df2['title']==book].index

[] id_b=id_b[0]

[] id_b

[] books=[]

[] def BookRecommender(book_name):
    book_list_name = []
    book_id = df2[df2['title'] == book_name].index
    book_id = book_id[0]
    for newid in idlist[book_id]:
        book_list_name.append(df2.loc[newid].title)
    return book_list_name

[] new_books=BookRecommender('Harry Potter and the Half-Blood Prince (Harry Potter  #6)')

[] new_books




